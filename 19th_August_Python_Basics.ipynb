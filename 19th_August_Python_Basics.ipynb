{
 "cells": [
  {
   "cell_type": "markdown",
   "id": "505630ad-03b4-4cab-9ba3-1b570b6650ec",
   "metadata": {},
   "source": [
    "TOPIC: Python basic variables "
   ]
  },
  {
   "cell_type": "code",
   "execution_count": 12,
   "id": "3e5d034f-7ea2-4323-b72d-66d43c2dcbb3",
   "metadata": {},
   "outputs": [
    {
     "name": "stdout",
     "output_type": "stream",
     "text": [
      "After swapping: x = 10 , y = 5\n"
     ]
    }
   ],
   "source": [
    "# Declare and assign values to variables\n",
    "x = 5\n",
    "y = 10\n",
    "\n",
    "\n",
    "# Swap values without using a temporary variable\n",
    "x, y = y, x\n",
    "\n",
    "\n",
    "# Print the swapped values\n",
    "print(\"After swapping: x =\", x, \", y =\", y)\n"
   ]
  },
  {
   "cell_type": "code",
   "execution_count": null,
   "id": "fd99bcd2-613a-45e2-aa98-e203570b2ada",
   "metadata": {},
   "outputs": [],
   "source": [
    "# Input: Length and Width from the user\n",
    "length = float(input(\"Enter the length of the rectangle: \"))\n",
    "width = float(input(\"Enter the width of the rectangle: \"))\n",
    "\n",
    "\n",
    "# Calculate the area of the rectangle\n",
    "area = length * width\n",
    "\n",
    "\n",
    "# Display the result\n",
    "print(\"The area of the rectangle is:\", area)\n"
   ]
  },
  {
   "cell_type": "code",
   "execution_count": 5,
   "id": "5cddc530-c112-41fc-8474-7d4f173c09ec",
   "metadata": {},
   "outputs": [
    {
     "name": "stdin",
     "output_type": "stream",
     "text": [
      "Enter the temperature in Celsius:  21\n"
     ]
    },
    {
     "name": "stdout",
     "output_type": "stream",
     "text": [
      "Temperature in Fahrenheit: 69.8\n"
     ]
    }
   ],
   "source": [
    "# Input: Temperature in Celsius from the user\n",
    "celsius_temperature = float(input(\"Enter the temperature in Celsius: \"))\n",
    "\n",
    "\n",
    "# Convert Celsius to Fahrenheit\n",
    "fahrenheit_temperature = (celsius_temperature * 9/5) + 32\n",
    "\n",
    "\n",
    "# Display the result\n",
    "print(\"Temperature in Fahrenheit:\", fahrenheit_temperature)\n"
   ]
  },
  {
   "cell_type": "markdown",
   "id": "7ef84ee6-df43-4126-8bf5-b915dc26ed64",
   "metadata": {},
   "source": [
    "TOPIC: String based questions"
   ]
  },
  {
   "cell_type": "code",
   "execution_count": 8,
   "id": "d9cbc7ca-d914-477d-bc07-8d3938d7e81c",
   "metadata": {},
   "outputs": [
    {
     "name": "stdin",
     "output_type": "stream",
     "text": [
      "Enter your String:  masood\n"
     ]
    },
    {
     "name": "stdout",
     "output_type": "stream",
     "text": [
      "length of the string: 6\n"
     ]
    }
   ],
   "source": [
    "# Input: sting form the user\n",
    "input_string = input(\"Enter your String: \")\n",
    "\n",
    "# calculate the length of the string\n",
    "length_string = len(input_string)\n",
    "\n",
    "# display the result \n",
    "print('length of the string:', length_string)\n"
   ]
  },
  {
   "cell_type": "code",
   "execution_count": 9,
   "id": "ba45a8e2-1e11-450f-99cf-c5a111143bf5",
   "metadata": {},
   "outputs": [
    {
     "name": "stdin",
     "output_type": "stream",
     "text": [
      "Enter a string:  monu\n"
     ]
    },
    {
     "name": "stdout",
     "output_type": "stream",
     "text": [
      "Reversed string: unom\n"
     ]
    }
   ],
   "source": [
    "# Input: String from the user\n",
    "input_string = input(\"Enter a string: \")\n",
    "\n",
    "# Useing string slicing to reverse the string\n",
    "reversed_string = input_string[::-1]\n",
    "\n",
    "\n",
    "# Display the reversed string\n",
    "print(\"Reversed string:\", reversed_string)\n",
    "\n"
   ]
  },
  {
   "cell_type": "code",
   "execution_count": 10,
   "id": "9ee092b7-b8d9-45b5-a272-c293f7e74f65",
   "metadata": {},
   "outputs": [
    {
     "name": "stdin",
     "output_type": "stream",
     "text": [
      "Enter a string:  mo nu\n"
     ]
    },
    {
     "name": "stdout",
     "output_type": "stream",
     "text": [
      "Modified string without spaces: monu\n"
     ]
    }
   ],
   "source": [
    "# Input: String from the user\n",
    "input_string = input(\"Enter a string: \")\n",
    "\n",
    "# Remove spaces from the string\n",
    "modified_string = input_string.replace(\" \", \"\")\n",
    "\n",
    "# Display the modified string without spaces\n",
    "print(\"Modified string without spaces:\", modified_string)"
   ]
  },
  {
   "cell_type": "code",
   "execution_count": 11,
   "id": "611606ce-6b74-48b3-88d7-b5ef28c09c28",
   "metadata": {},
   "outputs": [
    {
     "name": "stdin",
     "output_type": "stream",
     "text": [
      "Enter a string:  eye\n"
     ]
    },
    {
     "name": "stdout",
     "output_type": "stream",
     "text": [
      "The entered string is a palindrome.\n"
     ]
    }
   ],
   "source": [
    "# Input: String from the user\n",
    "input_string = input(\"Enter a string: \")\n",
    "\n",
    "# Check if the string is a palindrome\n",
    "is_palindrome = input_string == input_string[::-1]\n",
    "\n",
    "# Display the result\n",
    "if is_palindrome:\n",
    "    print(\"The entered string is a palindrome.\")\n",
    "else:\n",
    "    print(\"The entered string is not a palindrome.\")\n"
   ]
  }
 ],
 "metadata": {
  "kernelspec": {
   "display_name": "Python 3 (ipykernel)",
   "language": "python",
   "name": "python3"
  },
  "language_info": {
   "codemirror_mode": {
    "name": "ipython",
    "version": 3
   },
   "file_extension": ".py",
   "mimetype": "text/x-python",
   "name": "python",
   "nbconvert_exporter": "python",
   "pygments_lexer": "ipython3",
   "version": "3.10.8"
  }
 },
 "nbformat": 4,
 "nbformat_minor": 5
}
